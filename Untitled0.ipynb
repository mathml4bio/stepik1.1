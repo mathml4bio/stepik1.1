{
  "nbformat": 4,
  "nbformat_minor": 0,
  "metadata": {
    "colab": {
      "provenance": [],
      "authorship_tag": "ABX9TyOyT0qH8DxhSP0Ob0QCuNJo"
    },
    "kernelspec": {
      "name": "python3",
      "display_name": "Python 3"
    },
    "language_info": {
      "name": "python"
    }
  },
  "cells": [
    {
      "cell_type": "code",
      "execution_count": null,
      "metadata": {
        "colab": {
          "base_uri": "https://localhost:8080/"
        },
        "id": "nduA4bLdDcFa",
        "outputId": "4fee5aa6-f069-4744-c1a1-c1e47cadab00"
      },
      "outputs": [
        {
          "output_type": "stream",
          "name": "stdout",
          "text": [
            "[1 2 3 4 5 6 9], [2 1 1 1 2 1 1]\n"
          ]
        }
      ],
      "source": [
        "#NumPy\n",
        "import numpy as np\n",
        "arr = np.array([3, 1, 4, 1, 5, 9, 2, 6, 5])\n",
        "un, con = np.unique(arr, return_counts = True)\n",
        "print(un, end = \", \")\n",
        "print(con)"
      ]
    },
    {
      "cell_type": "code",
      "source": [
        "import numpy as np\n",
        "arr1 = np.array([1, 2, 3, 4, 5])\n",
        "arr2 = np.array([3, 4, 5, 6, 7])\n",
        "un = np.union1d(arr1, arr2) # обьединение\n",
        "print(un)"
      ],
      "metadata": {
        "colab": {
          "base_uri": "https://localhost:8080/"
        },
        "id": "9sBLrZM1HD2i",
        "outputId": "b2772e8c-5ebf-445e-9552-b832862279e6"
      },
      "execution_count": null,
      "outputs": [
        {
          "output_type": "stream",
          "name": "stdout",
          "text": [
            "[1 2 3 4 5 6 7]\n"
          ]
        }
      ]
    },
    {
      "cell_type": "code",
      "source": [
        "# np.intersect1d(...,...) пересечение массивов"
      ],
      "metadata": {
        "id": "jK_CwKBxHYNY"
      },
      "execution_count": null,
      "outputs": []
    },
    {
      "cell_type": "code",
      "source": [
        "# numpy.setdiff1d() разность\n",
        "#numpy.setxor1d() симметрическая разность"
      ],
      "metadata": {
        "id": "32QlgKIoHlhc"
      },
      "execution_count": null,
      "outputs": []
    },
    {
      "cell_type": "code",
      "source": [
        "import numpy as np\n",
        "array1 = np.array([1, 2, 3, 4, 5])\n",
        "array2 = np.array([3, 4, 5, 6, 7])\n",
        "array3 = np.array([5, 6, 7, 8, 9])\n",
        "res = np.isin(array1, (array2, array3))\n",
        "print(res)"
      ],
      "metadata": {
        "colab": {
          "base_uri": "https://localhost:8080/"
        },
        "id": "1wCwADFDJpiL",
        "outputId": "dc9cf15b-2783-419c-e324-57f647933c19"
      },
      "execution_count": null,
      "outputs": [
        {
          "output_type": "stream",
          "name": "stdout",
          "text": [
            "[False False  True  True  True]\n"
          ]
        }
      ]
    },
    {
      "cell_type": "code",
      "source": [
        "#numpy.union1d() возвращает массив, содержащий УНИКАЛЬНЫЕ элементы\n",
        "#первого массива объединенные с уникальными элементами второго массива,\n",
        " #отсортированный по возрастанию.\n",
        "\n",
        "#Функция numpy.setdiff1d() возвращает массив УНИКАЛЬНЫХ значений из первого\n",
        " #массива, которых нет во втором массиве."
      ],
      "metadata": {
        "id": "LrCK1yVnKYde"
      },
      "execution_count": null,
      "outputs": []
    },
    {
      "cell_type": "code",
      "source": [
        "import numpy as np\n",
        "a = np.array([1, 2, 3])\n",
        "v = np.save(\"my_array\", a)\n"
      ],
      "metadata": {
        "colab": {
          "base_uri": "https://localhost:8080/"
        },
        "id": "WHuba7u-KiTw",
        "outputId": "813f390e-665a-4ccb-e199-31e6f2145b40"
      },
      "execution_count": null,
      "outputs": [
        {
          "output_type": "stream",
          "name": "stdout",
          "text": [
            "[1 2 3]\n"
          ]
        }
      ]
    },
    {
      "cell_type": "code",
      "source": [
        "import numpy as np\n",
        "b = np.load(\"my_array.npy\")\n",
        "print(b)"
      ],
      "metadata": {
        "colab": {
          "base_uri": "https://localhost:8080/"
        },
        "id": "5EK-OamwOUeA",
        "outputId": "d99bf984-7773-4b5d-da1c-cecdff9fa3de"
      },
      "execution_count": null,
      "outputs": [
        {
          "output_type": "stream",
          "name": "stdout",
          "text": [
            "[1 2 3]\n"
          ]
        }
      ]
    },
    {
      "cell_type": "code",
      "source": [
        "import numpy as np\n",
        "a = np.array([1, 2, 3])\n",
        "b = np.array([4, 5, 6])\n",
        "np.savez(\"my_arrays.npz\", a=a, b=b) #сохранили, присвоили имена\n",
        "data = np.load(\"my_arrays.npz\")\n",
        "print(data[\"a\"])\n",
        "print(data[\"b\"])"
      ],
      "metadata": {
        "colab": {
          "base_uri": "https://localhost:8080/"
        },
        "id": "z3nnLzEdOtPt",
        "outputId": "b9a2e0fc-30a0-40c3-e76c-2a39f8008fe5"
      },
      "execution_count": null,
      "outputs": [
        {
          "output_type": "stream",
          "name": "stdout",
          "text": [
            "[1 2 3]\n",
            "[4 5 6]\n"
          ]
        }
      ]
    },
    {
      "cell_type": "code",
      "source": [
        "import numpy as np\n",
        "a = np.array([[1, 2], [3, 4]])\n",
        "np.savetxt(\"my_array.txt\", a)\n",
        "c = np.loadtxt(\"my_array.txt\")\n",
        "print(c)"
      ],
      "metadata": {
        "colab": {
          "base_uri": "https://localhost:8080/"
        },
        "id": "vqHSV9VRPnLh",
        "outputId": "c5a86900-b540-42d0-d6d6-ac3a4027fc96"
      },
      "execution_count": null,
      "outputs": [
        {
          "output_type": "stream",
          "name": "stdout",
          "text": [
            "[[1. 2.]\n",
            " [3. 4.]]\n"
          ]
        }
      ]
    },
    {
      "cell_type": "code",
      "source": [
        "file = open(\"my_file.txt\", encoding = \"utf-8\")\n",
        "print(file.read(4))\n",
        "file.seek(0) #установка файловой позиции\n",
        "file.tell #возвращает текущую файловую позицию/ в байтах!\n",
        "print(file.readline(), end =\"\") #чтение только первой строки/ и отменяем двойной перенос строки\n",
        "file.readlines() #читаем все строки/ в виде списка\n",
        "file.close()# закрываем"
      ],
      "metadata": {
        "id": "etm9sprEUqUP"
      },
      "execution_count": null,
      "outputs": []
    },
    {
      "cell_type": "code",
      "source": [
        "name_1 = \"Anna\"\n",
        "name_2 = \"Victor\"\n",
        "with open(\"data.csv\", \"w\") as file:\n",
        "  writer = csv.writer(file)\n",
        "  writer.writerows()"
      ],
      "metadata": {
        "id": "axfcbxZmeOPc"
      },
      "execution_count": null,
      "outputs": []
    },
    {
      "cell_type": "code",
      "source": [
        "import numpy as np\n",
        "a = np.array([[1, 2], [3, 4]])\n",
        "np.savetxt(\"my_array.scv\", a, delimiter = \",\")"
      ],
      "metadata": {
        "id": "-kDebLBxhFlr"
      },
      "execution_count": null,
      "outputs": []
    },
    {
      "cell_type": "code",
      "source": [
        "\"\"\"\n",
        "delimiter: указывает разделитель между значениями в файле\n",
        "dtype: указывает тип данных\n",
        "skiprows: указывает количество строк, которые нужно пропустить перед началом\n",
        "usecols: указывает индексы колонок, которые нужно загрузить из файла\n",
        "footer: указывает строку, которая будет записана в конце файла.\n",
        "comments: указывает символы, которые используются для комментариев\n",
        "fmt: указывает формат записи данных\n",
        "newline: указывает символ переноса строки\n",
        "\"\"\""
      ],
      "metadata": {
        "id": "SIkg-f0vR2sQ"
      },
      "execution_count": null,
      "outputs": []
    },
    {
      "cell_type": "code",
      "source": [
        "np.dot() #ckalarnoe proisvedenie\n",
        "np.cross() #vectornoe proisvedenie\n"
      ],
      "metadata": {
        "id": "0y11Ssx7TQJn"
      },
      "execution_count": null,
      "outputs": []
    },
    {
      "cell_type": "code",
      "source": [
        "import numpy as np\n",
        "from numpy import linalg\n",
        "a = np.array([4,5])\n",
        "b = linalg.norm(a)\n",
        "print(b)"
      ],
      "metadata": {
        "colab": {
          "base_uri": "https://localhost:8080/"
        },
        "id": "6spqBggzT38k",
        "outputId": "5e508a46-58b5-48c8-bce9-9c166739742b"
      },
      "execution_count": 3,
      "outputs": [
        {
          "output_type": "stream",
          "name": "stdout",
          "text": [
            "6.4031242374328485\n"
          ]
        }
      ]
    },
    {
      "cell_type": "code",
      "source": [
        "import numpy as np\n",
        "print(np.dot([1,2,3],[4,5,6]))"
      ],
      "metadata": {
        "colab": {
          "base_uri": "https://localhost:8080/"
        },
        "id": "jTvs6Eo2UZrS",
        "outputId": "d940470d-d4be-4b62-e8ba-f72c3698aa7b"
      },
      "execution_count": 4,
      "outputs": [
        {
          "output_type": "stream",
          "name": "stdout",
          "text": [
            "32\n"
          ]
        }
      ]
    },
    {
      "cell_type": "code",
      "source": [
        "import numpy as np\n",
        "a = int(input())\n",
        "b = list(map(int, input().split()))\n",
        "x = np.arctan(b[1]/b[0])\n",
        "sx = a*np.cos(x)\n",
        "sy = a*np.sin(x)\n",
        "cx = np.round(sx, 1)\n",
        "cy = np.round(sy, 1)\n",
        "print(cx, end=\" \")\n",
        "print(cy)"
      ],
      "metadata": {
        "colab": {
          "base_uri": "https://localhost:8080/"
        },
        "id": "w-LHEN0SXURO",
        "outputId": "03d62bc2-77c1-45a0-e1db-f8ced2ff3be1"
      },
      "execution_count": 6,
      "outputs": [
        {
          "output_type": "stream",
          "name": "stdout",
          "text": [
            "3\n",
            "-1 1\n",
            "2.1 -2.1\n"
          ]
        }
      ]
    },
    {
      "cell_type": "code",
      "source": [
        "import numpy as np\n",
        "from numpy import linalg\n",
        "a = int(input())\n",
        "b = list(map(int, input().split()))\n",
        "brr = np.array(b)\n",
        "l = linalg.norm(brr)\n",
        "k = brr/l\n",
        "x= a*k\n",
        "v= np.round(x, 1)\n",
        "print(v[0], end=\" \")\n",
        "print(v[1])"
      ],
      "metadata": {
        "colab": {
          "base_uri": "https://localhost:8080/"
        },
        "id": "_W4XAa6jY98B",
        "outputId": "5c5ab8db-7b8b-4a1d-c2d4-72d7962296a7"
      },
      "execution_count": 9,
      "outputs": [
        {
          "output_type": "stream",
          "name": "stdout",
          "text": [
            "3\n",
            "-1 1\n",
            "-2.1 2.1\n"
          ]
        }
      ]
    },
    {
      "cell_type": "code",
      "source": [
        "\"\"\"\n",
        "numpy.random.rand генерирует массив из случайных чисел в диапазоне от 0 до 1\n",
        "numpy.random.randn генерирует массив из случайных чисел с ст норм распр\n",
        "numpy.random.randint генерирует массив из случайных целых чисел в заданном диап\n",
        "numpy.random.uniform генерировать случайные числа в заданном диап с плавающей зап\n",
        "numpy.random.normal(loc=0.0, scale=1.0, size=None) матожид/ст откл/длина/норм распр\n",
        "numpy.random.choice(a, size=None, replace=True, p=None) сколько то случ элементов из выборки\n",
        "\"\"\""
      ],
      "metadata": {
        "id": "oIQYS9vJaRi3"
      },
      "execution_count": null,
      "outputs": []
    },
    {
      "cell_type": "code",
      "source": [
        "import numpy as np\n",
        "np.random.seed(41)\n",
        "a = np.random.rand(5)\n",
        "print(a)"
      ],
      "metadata": {
        "colab": {
          "base_uri": "https://localhost:8080/"
        },
        "id": "RfXvOL24aq8-",
        "outputId": "ee44f0ee-5431-4086-ac21-02bfeec03225"
      },
      "execution_count": 14,
      "outputs": [
        {
          "output_type": "stream",
          "name": "stdout",
          "text": [
            "[0.25092362 0.04609582 0.67681624 0.04346949 0.1164237 ]\n"
          ]
        }
      ]
    },
    {
      "cell_type": "code",
      "source": [
        "import numpy as np\n",
        "import random\n",
        "np.random.seed(5)\n",
        "v= np.random.randint(1,7,1000)\n",
        "un, con = np.unique(v, return_counts = True)\n",
        "#print(con)\n",
        "print(\"1 -\",con[0])\n",
        "print(\"2 -\",con[1])\n",
        "print(\"3 -\",con[2])\n",
        "print(\"4 -\",con[3])\n",
        "print(\"5 -\",con[4])\n",
        "print(\"6 -\",con[5])"
      ],
      "metadata": {
        "colab": {
          "base_uri": "https://localhost:8080/"
        },
        "id": "kRwULANOdbd0",
        "outputId": "4efc7a1a-eb28-4d67-dba1-8fd8164e0b80"
      },
      "execution_count": 20,
      "outputs": [
        {
          "output_type": "stream",
          "name": "stdout",
          "text": [
            "1 - 167\n",
            "2 - 174\n",
            "3 - 164\n",
            "4 - 161\n",
            "5 - 160\n",
            "6 - 174\n"
          ]
        }
      ]
    },
    {
      "cell_type": "code",
      "source": [
        "import numpy as np\n",
        "arr = np.array([[[1,2],[3,4]],[[5,6],[7,8]]])\n",
        "print(arr)\n",
        "#np.asarray - из похожего сделать многомерный массив\n",
        "#np.array делает копию данных и возвращает новый массив, а np.asarray\n",
        "# использует ссылки на существующие данные и возвращает массив"
      ],
      "metadata": {
        "colab": {
          "base_uri": "https://localhost:8080/"
        },
        "id": "H3vImCRDh5Jd",
        "outputId": "f6003570-cdcc-408f-e2a5-7c6f75489d4b"
      },
      "execution_count": 21,
      "outputs": [
        {
          "output_type": "stream",
          "name": "stdout",
          "text": [
            "[[[1 2]\n",
            "  [3 4]]\n",
            "\n",
            " [[5 6]\n",
            "  [7 8]]]\n"
          ]
        }
      ]
    },
    {
      "cell_type": "code",
      "source": [
        "import numpy as np\n",
        "arr = np.full((3,3), 5)\n",
        "print(arr)"
      ],
      "metadata": {
        "colab": {
          "base_uri": "https://localhost:8080/"
        },
        "id": "idvDArzqjcbI",
        "outputId": "ea5097f7-aa1a-4495-d54b-aab21feedb94"
      },
      "execution_count": 23,
      "outputs": [
        {
          "output_type": "stream",
          "name": "stdout",
          "text": [
            "[[5 5 5]\n",
            " [5 5 5]\n",
            " [5 5 5]]\n"
          ]
        }
      ]
    },
    {
      "cell_type": "code",
      "source": [
        "import numpy as np\n",
        "arr = np.array([[1,2,3],[4,5,6]])\n",
        "print(arr.flags['C_CONTIGUOUS']) #данные по строчкам\n"
      ],
      "metadata": {
        "colab": {
          "base_uri": "https://localhost:8080/"
        },
        "id": "KbooSwgXkpkW",
        "outputId": "f7184507-ca7d-4246-d570-f62ec5e3ad25"
      },
      "execution_count": 24,
      "outputs": [
        {
          "output_type": "stream",
          "name": "stdout",
          "text": [
            "True\n"
          ]
        }
      ]
    },
    {
      "cell_type": "code",
      "source": [
        "a = np.array([[1, 2, 3, 10], [4, 5, 6, 11], [7, 8, 9, 12], [13, 14, 15, 16]])\n",
        "c = [1,2,3]\n",
        "b = [0,1,0]\n",
        "cv = a[c,b]\n",
        "print(cv)\n",
        "print(a[1:, [2,0]])"
      ],
      "metadata": {
        "colab": {
          "base_uri": "https://localhost:8080/"
        },
        "id": "91owGpv6sPOM",
        "outputId": "25f7a132-6bc7-488b-9dd8-1f320ee07beb"
      },
      "execution_count": 28,
      "outputs": [
        {
          "output_type": "stream",
          "name": "stdout",
          "text": [
            "[ 4  8 13]\n",
            "[[ 6  4]\n",
            " [ 9  7]\n",
            " [15 13]]\n"
          ]
        }
      ]
    },
    {
      "cell_type": "code",
      "source": [
        "arr = np.logical_and(arr1>3, arr2<50)\n",
        "np.logical_xor #возвращает тру если элементы разные\n",
        "m = np.max(arr[arr<5])\n"
      ],
      "metadata": {
        "id": "T6tGs_jkufmn"
      },
      "execution_count": null,
      "outputs": []
    },
    {
      "cell_type": "code",
      "source": [
        "import numpy as np\n",
        "def replace_count(a):\n",
        "    v = np.size(a)\n",
        "    for i in range(v):\n",
        "      for j in range(v):\n",
        "        if a[i,j]<0:\n",
        "          a[i,j] == 0\n"
      ],
      "metadata": {
        "id": "qd3Pr4mhzIUz"
      },
      "execution_count": 31,
      "outputs": []
    },
    {
      "cell_type": "code",
      "source": [
        "import numpy as np\n",
        "a = np.array([1,2,3,4,5,7])\n",
        "b = np.resize(a,(2,1,2))\n",
        "print(b)\n",
        "b = a.reshape((3, 2))"
      ],
      "metadata": {
        "colab": {
          "base_uri": "https://localhost:8080/"
        },
        "id": "Q41ANaJ_zvpj",
        "outputId": "635a7ef7-3156-4c59-fc52-a275cfbc03ac"
      },
      "execution_count": 38,
      "outputs": [
        {
          "output_type": "stream",
          "name": "stdout",
          "text": [
            "[[[1 2]]\n",
            "\n",
            " [[3 4]]]\n"
          ]
        }
      ]
    },
    {
      "cell_type": "code",
      "source": [
        "import numpy as np\n",
        "a = np.arange(24).reshape((2,3,4))\n",
        "b = np.transpose(a, (1,0,2))\n",
        "print(b)"
      ],
      "metadata": {
        "colab": {
          "base_uri": "https://localhost:8080/"
        },
        "id": "UwG8F29_3Guo",
        "outputId": "cc0c5f78-e046-4f6a-e753-f3ee45f138e0"
      },
      "execution_count": 39,
      "outputs": [
        {
          "output_type": "stream",
          "name": "stdout",
          "text": [
            "[[[ 0  1  2  3]\n",
            "  [12 13 14 15]]\n",
            "\n",
            " [[ 4  5  6  7]\n",
            "  [16 17 18 19]]\n",
            "\n",
            " [[ 8  9 10 11]\n",
            "  [20 21 22 23]]]\n"
          ]
        }
      ]
    },
    {
      "cell_type": "code",
      "source": [
        "np.swapaxis(a,0,1) #меняет 2 оси местами"
      ],
      "metadata": {
        "id": "4F0nVBh44Nhv"
      },
      "execution_count": null,
      "outputs": []
    },
    {
      "cell_type": "code",
      "source": [
        "#функция np.resize(arr, (x, y)), при увеличении размера заполняет повторяющими\n",
        "#значениями\n",
        "#А вот метод arr.resize(x, y) при увеличении размера добивает новые элементы\n",
        "#нулями или пустыми значениями.\n",
        "#expand_dims(): функция позволяет добавить новую ось\n",
        ""
      ],
      "metadata": {
        "id": "hc1utyc24qHN"
      },
      "execution_count": null,
      "outputs": []
    },
    {
      "cell_type": "code",
      "source": [
        "import numpy as np\n",
        "a = np.array([[1,2,3],[4,5,6]])\n",
        "b = np.rollaxis(a, 1,0)\n",
        "print(a.shape)\n",
        "print(b.shape)"
      ],
      "metadata": {
        "colab": {
          "base_uri": "https://localhost:8080/"
        },
        "id": "B1dYSKac8rf9",
        "outputId": "5fa30e93-ec7f-417e-d4dd-75d769616865"
      },
      "execution_count": 40,
      "outputs": [
        {
          "output_type": "stream",
          "name": "stdout",
          "text": [
            "(2, 3)\n",
            "(3, 2)\n"
          ]
        }
      ]
    },
    {
      "cell_type": "code",
      "source": [
        "\"\"\"\n",
        "numpy.fabs() похожа на numpy.abs(), но работает только с числами\n",
        "с плавающей точкой.\n",
        "\"\"\""
      ],
      "metadata": {
        "id": "SJ-mjsx5DDHo"
      },
      "execution_count": null,
      "outputs": []
    },
    {
      "cell_type": "code",
      "source": [
        "a = np.array([[1, 2], [3, 4], [5, 6]])\n",
        "b = np.median(a)\n",
        "print(b)"
      ],
      "metadata": {
        "colab": {
          "base_uri": "https://localhost:8080/"
        },
        "id": "ar73jD3iHZTV",
        "outputId": "814ad8ad-0111-42d0-84fb-cacdb9ac8037"
      },
      "execution_count": 42,
      "outputs": [
        {
          "output_type": "stream",
          "name": "stdout",
          "text": [
            "3.5\n"
          ]
        }
      ]
    },
    {
      "cell_type": "code",
      "source": [
        "mean_a = np.mean(a, axis=(0, 1))\n",
        "print(mean_a)\n",
        "# ищем среднее по столбцам"
      ],
      "metadata": {
        "id": "WFTDCGw_IV5W"
      },
      "execution_count": null,
      "outputs": []
    },
    {
      "cell_type": "code",
      "source": [
        "import numpy as np\n",
        "arr3d = np.array([[(6, 2), (3, 4)], [(0, 6), (7, 8)]], dtype = [('a','<i4'),('b','<i4')])\n",
        "sor = np.sort(arr3d, order = ['b', 'a']) #те первые элементы из каждого подмассива это первый столбец/вторые-вторые\n",
        "print(sor)   #сортировка в строчку!"
      ],
      "metadata": {
        "colab": {
          "base_uri": "https://localhost:8080/"
        },
        "id": "_ycIFVpd70-f",
        "outputId": "b0a4da60-0b8b-4d80-ef04-e6d8f247e1b9"
      },
      "execution_count": 16,
      "outputs": [
        {
          "output_type": "stream",
          "name": "stdout",
          "text": [
            "[[(6, 2) (3, 4)]\n",
            " [(0, 6) (7, 8)]]\n"
          ]
        }
      ]
    },
    {
      "cell_type": "code",
      "source": [
        "#структурированные массивы\n",
        "dt = np.dtype([('name', 'S10'), ('age', int), ('salary', float)])\n",
        "arr = np.array([('John', 25, 35000.0), ('David', 30, 50000.0)], dtype=dt)"
      ],
      "metadata": {
        "id": "Fne_niTV_gkv"
      },
      "execution_count": null,
      "outputs": []
    },
    {
      "cell_type": "code",
      "source": [
        "#Нахождение b наименьших значений в многомерном массиве\n",
        "import numpy as np\n",
        "a = np.array([[3, 1, 4], [2, 4, 6]])\n",
        "b = 5\n",
        "arr = np.argsort(a, axis = None) #ось указывать обязательно\n",
        "v = a.flatten()[arr[:5]]\n",
        "print(v)"
      ],
      "metadata": {
        "colab": {
          "base_uri": "https://localhost:8080/"
        },
        "id": "qkfpXWPPCdOz",
        "outputId": "ad13973f-7723-4bac-8eb8-efedd173b791"
      },
      "execution_count": 21,
      "outputs": [
        {
          "output_type": "stream",
          "name": "stdout",
          "text": [
            "[1 2 3 4 4]\n"
          ]
        }
      ]
    },
    {
      "cell_type": "code",
      "source": [
        "import numpy as np\n",
        "\n",
        "data = np.array([\n",
        "    (\"Путин\", 2018), (\"Медведев\", 2008),\n",
        "    (\"Ельцин\", 1996), (\"Путин\", 2000),\n",
        "    (\"Ельцин\", 1991), (\"Путин\", 2012),\n",
        "    (\"Путин\", 2024), (\"Путин\", 2004),\n",
        "])\n",
        "name, year = data[:,0], data[:,1]\n",
        "idx = np.lexsort(keys =(name, year))\n",
        "print(data[idx])"
      ],
      "metadata": {
        "colab": {
          "base_uri": "https://localhost:8080/"
        },
        "id": "vlvSXMgjEoXQ",
        "outputId": "08516bdb-6ba5-4478-8820-6885377c6f8d"
      },
      "execution_count": 24,
      "outputs": [
        {
          "output_type": "stream",
          "name": "stdout",
          "text": [
            "[['Ельцин' '1991']\n",
            " ['Ельцин' '1996']\n",
            " ['Путин' '2000']\n",
            " ['Путин' '2004']\n",
            " ['Медведев' '2008']\n",
            " ['Путин' '2012']\n",
            " ['Путин' '2018']\n",
            " ['Путин' '2024']]\n"
          ]
        }
      ]
    },
    {
      "cell_type": "code",
      "source": [
        "import numpy as np\n",
        "data = np.array([('z', 3),('v', 4)])\n",
        "bukva, count = data[:,0],data[:,1]\n",
        "idx = np.lexsort(keys = (count, bukva)) #сортировка идет по второму что указано\n",
        "print(data[idx])"
      ],
      "metadata": {
        "colab": {
          "base_uri": "https://localhost:8080/"
        },
        "id": "n2z0E8whFgwK",
        "outputId": "9f0c22a6-52d7-4d4a-8975-04f8ab2d9cbc"
      },
      "execution_count": 31,
      "outputs": [
        {
          "output_type": "stream",
          "name": "stdout",
          "text": [
            "[['v' '4']\n",
            " ['z' '3']]\n"
          ]
        }
      ]
    },
    {
      "cell_type": "code",
      "source": [
        "# частичная сортировка\n",
        "numpy.partition(arr, kth, axis=-1, kind='introselect', order=None) #kth - количество элементов которые нужно отсортировать(+1 нужно!)"
      ],
      "metadata": {
        "id": "jYSGAyOUIIvJ"
      },
      "execution_count": null,
      "outputs": []
    },
    {
      "cell_type": "code",
      "source": [
        "\"\"\"\n",
        "numpy.dot() - функция умножения двух массивов\n",
        "numpy.diag() - функция, возвращающая элементы диагонали квадратной матрицы(\n",
        "  создать новую матрицу с заданной диагональю/получить элементы главной диаг сдвинутые на сколько-то)\n",
        ")\n",
        "numpy.trace() - функция, вычисляющая след матрицы\n",
        "numpy.matmul() - функция матричного умножения\n",
        "numpy.linalg.inv() - функция нахождения обратной матрицы\n",
        "numpy.linalg.det() - функция нахождения определителя матрицы\n",
        "numpy.linalg.eig() - функция нахождения собственных значений и собственных векторов матрицы\n",
        "\"\"\"\n"
      ],
      "metadata": {
        "id": "gdiw_zVRM02f"
      },
      "execution_count": null,
      "outputs": []
    },
    {
      "cell_type": "code",
      "source": [
        "import numpy as np\n",
        "import math\n",
        "from numpy import linalg\n",
        "arr = np.array([[1,2,3],[4,5,6],[5,6,9]])\n",
        "v = np.linalg.inv(arr)\n",
        "b = np.shape(v)\n",
        "for i in range(b[0]):\n",
        "  for j in range(b[1]):\n",
        "    v[i,j] = np.round(v[i,j])\n",
        "print(v)"
      ],
      "metadata": {
        "colab": {
          "base_uri": "https://localhost:8080/"
        },
        "id": "Mt0oPgO7M9Fb",
        "outputId": "91954421-edc3-4896-8ebc-6ee03fb8870b"
      },
      "execution_count": 55,
      "outputs": [
        {
          "output_type": "stream",
          "name": "stdout",
          "text": [
            "[[-2. -0.  1.]\n",
            " [ 1.  1. -1.]\n",
            " [ 0. -1.  1.]]\n"
          ]
        }
      ]
    },
    {
      "cell_type": "code",
      "source": [
        "c = np.concatenate((a, b), axis=1) #обьединение массивов с одиноковой формой"
      ],
      "metadata": {
        "id": "5Bk29N6bV2ke"
      },
      "execution_count": null,
      "outputs": []
    },
    {
      "cell_type": "code",
      "source": [
        "import numpy as np\n",
        "a = np.array([[1,2],[3,4]])\n",
        "b = np.array([3,7])\n",
        "v = np.vstack((a,b))\n",
        "print(v) #аналогично np.hstack обьединяет по горизонтали"
      ],
      "metadata": {
        "colab": {
          "base_uri": "https://localhost:8080/"
        },
        "id": "0LUBZnB6WqFE",
        "outputId": "c8e69809-2743-42f0-cbbc-5df75fed6898"
      },
      "execution_count": 58,
      "outputs": [
        {
          "output_type": "stream",
          "name": "stdout",
          "text": [
            "[[1 2]\n",
            " [3 4]\n",
            " [3 7]]\n"
          ]
        }
      ]
    },
    {
      "cell_type": "code",
      "source": [
        "a = np.array([1,2,3])\n",
        "b = np.array([3,4,5])\n",
        "c = np.array([5,9,8])\n",
        "#d = np.r_[a,b,c]\n",
        "d = np.c_[a,b,c]\n",
        "print(d)"
      ],
      "metadata": {
        "colab": {
          "base_uri": "https://localhost:8080/"
        },
        "id": "5d42K4reYCG8",
        "outputId": "97bca703-588d-4c61-b66c-e7f8d50dea25"
      },
      "execution_count": 62,
      "outputs": [
        {
          "output_type": "stream",
          "name": "stdout",
          "text": [
            "[[1 3 5]\n",
            " [2 4 9]\n",
            " [3 5 8]]\n"
          ]
        }
      ]
    },
    {
      "cell_type": "code",
      "source": [
        "g = np.c_['3,5', [1,2,3], [4,5,6], [7,8,9]] ?\n",
        "print(g)"
      ],
      "metadata": {
        "colab": {
          "base_uri": "https://localhost:8080/"
        },
        "id": "vHAE0AF0ZWOf",
        "outputId": "e3ca1ea3-aa25-402e-930d-f93c7e8991fb"
      },
      "execution_count": 72,
      "outputs": [
        {
          "output_type": "stream",
          "name": "stdout",
          "text": [
            "[[[[[1]\n",
            "    [4]\n",
            "    [7]]]]\n",
            "\n",
            "\n",
            "\n",
            " [[[[2]\n",
            "    [5]\n",
            "    [8]]]]\n",
            "\n",
            "\n",
            "\n",
            " [[[[3]\n",
            "    [6]\n",
            "    [9]]]]]\n"
          ]
        }
      ]
    },
    {
      "cell_type": "code",
      "source": [
        "a = np.array([1,2,3])\n",
        "v = np.repeat(a, [3,5,2])\n",
        "print(v)"
      ],
      "metadata": {
        "colab": {
          "base_uri": "https://localhost:8080/"
        },
        "id": "kUAcVpBRaVIR",
        "outputId": "781566ff-6ba5-4e7b-8e27-a5e477d46236"
      },
      "execution_count": 73,
      "outputs": [
        {
          "output_type": "stream",
          "name": "stdout",
          "text": [
            "[1 1 1 2 2 2 2 2 3 3]\n"
          ]
        }
      ]
    },
    {
      "cell_type": "code",
      "source": [
        "arr = np.array([[1, 2], [3, 4]])\n",
        "v = np.tile(arr, [2,3])\n",
        "print(v)"
      ],
      "metadata": {
        "colab": {
          "base_uri": "https://localhost:8080/"
        },
        "id": "PYYOl7l0dE0t",
        "outputId": "2cfccec1-341c-4eb8-dd84-be2490782991"
      },
      "execution_count": 74,
      "outputs": [
        {
          "output_type": "stream",
          "name": "stdout",
          "text": [
            "[[1 2 1 2 1 2]\n",
            " [3 4 3 4 3 4]\n",
            " [1 2 1 2 1 2]\n",
            " [3 4 3 4 3 4]]\n"
          ]
        }
      ]
    },
    {
      "cell_type": "code",
      "source": [
        "a = np.array([[1,2,3],[4,7,8]])\n",
        "inc = [1,2,0]\n",
        "v = np.take(a, inc) #выбор определенных элементов по индексам\n",
        "print(v)"
      ],
      "metadata": {
        "colab": {
          "base_uri": "https://localhost:8080/"
        },
        "id": "q5qUeawveo8C",
        "outputId": "95e1d9df-e6ac-48b1-a6de-bbddb0422ac0"
      },
      "execution_count": 76,
      "outputs": [
        {
          "output_type": "stream",
          "name": "stdout",
          "text": [
            "[2 3 1]\n"
          ]
        }
      ]
    },
    {
      "cell_type": "code",
      "source": [
        "a = np.array([0, 10, 20, 30, 40, 50])\n",
        "mask = [False, True, False, True, True, False]\n",
        "count = np.take(a, np.where(mask)[0]) #указали ось для массива а\n",
        "# np.put() заменять по каким то индексам из массива на что-то"
      ],
      "metadata": {
        "id": "65OYyFV-fRrE"
      },
      "execution_count": 79,
      "outputs": []
    }
  ]
}
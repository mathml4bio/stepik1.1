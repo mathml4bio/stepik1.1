{
  "cells": [
    {
      "cell_type": "code",
      "execution_count": null,
      "metadata": {
        "id": "1U64R6oE9RDh"
      },
      "outputs": [],
      "source": [
        "import numpy as np\n",
        "rng=np.random.default_rng(1)\n",
        "rng.integers(6,size=(2,9))\n"
      ]
    },
    {
      "cell_type": "code",
      "source": [
        "words=input('vvedyte clova cheres probel: ').split()\n",
        "if (count:=len(words))>4:\n",
        "  print(f'vi znaete czelah {len(words)} clova')\n",
        "else:\n",
        "  print('ploho')"
      ],
      "metadata": {
        "colab": {
          "base_uri": "https://localhost:8080/"
        },
        "id": "uQ8e1U7vIyIR",
        "outputId": "b0b4fe4e-14b6-44ba-e583-b114f8a73b82"
      },
      "execution_count": null,
      "outputs": [
        {
          "output_type": "stream",
          "name": "stdout",
          "text": [
            "vvedyte clova cheres probel: fflf flflf\n",
            "ploho\n"
          ]
        }
      ]
    },
    {
      "cell_type": "code",
      "source": [
        "vos=int(input('vosrast posetitelia: '))\n",
        "chena=8 if vos<=18 else 20\n",
        "print(f'chena bileta sostavit {chena} rub')\n"
      ],
      "metadata": {
        "colab": {
          "base_uri": "https://localhost:8080/"
        },
        "id": "s8gAehcqZjGH",
        "outputId": "c47fdfc1-3c60-445f-f1a2-c2a15ca0fc67"
      },
      "execution_count": null,
      "outputs": [
        {
          "output_type": "stream",
          "name": "stdout",
          "text": [
            "vosrast posetitelia: 4444\n",
            "chena bileta sostavit 20 rub\n"
          ]
        }
      ]
    },
    {
      "cell_type": "code",
      "source": [
        "a=int(input())\n",
        "if a%2==0:\n",
        "  print('chetnoe')\n",
        "elif a%3==0:\n",
        "  print('toge neplocho')\n",
        "else:\n",
        "  print('pechal')\n"
      ],
      "metadata": {
        "colab": {
          "base_uri": "https://localhost:8080/"
        },
        "id": "KBHCRj_jeCOX",
        "outputId": "12111811-d7ec-4c3f-be06-b9878af41b0a"
      },
      "execution_count": null,
      "outputs": [
        {
          "output_type": "stream",
          "name": "stdout",
          "text": [
            "1\n",
            "pechal\n"
          ]
        }
      ]
    },
    {
      "cell_type": "code",
      "source": [
        "prof=input('Введи любимый предмет: ')\n",
        "match prof.lower():\n",
        "  case 'информатика':\n",
        "    print('ты будешь программистом')\n",
        "  case 'физика' | 'математика':\n",
        "    print('ты физик или математик')\n",
        "  case 'биология'| 'химия':\n",
        "    print('ты мб врачом')\n",
        "  case _:\n",
        "    print('ты юрист/экономист!')"
      ],
      "metadata": {
        "colab": {
          "base_uri": "https://localhost:8080/"
        },
        "id": "4zXH0QG7gkNN",
        "outputId": "f0df44c7-e31d-4bab-b146-90c424131e06"
      },
      "execution_count": null,
      "outputs": [
        {
          "output_type": "stream",
          "name": "stdout",
          "text": [
            "Введи любимый предмет: МАТЕМАТИКА\n",
            "ты физик или математик\n"
          ]
        }
      ]
    },
    {
      "cell_type": "code",
      "source": [
        "a=[1,2,3]*5\n",
        "while 3 in a:\n",
        "  a.remove(3)\n",
        "print(a)"
      ],
      "metadata": {
        "colab": {
          "base_uri": "https://localhost:8080/"
        },
        "id": "_djtzIO6kr2i",
        "outputId": "2bbd47d4-25c4-429a-ac1f-b3c4b4294721"
      },
      "execution_count": null,
      "outputs": [
        {
          "output_type": "stream",
          "name": "stdout",
          "text": [
            "[1, 2, 1, 2, 1, 2, 1, 2, 1, 2]\n"
          ]
        }
      ]
    },
    {
      "cell_type": "code",
      "source": [
        "s=input('Введите слово: ')\n",
        "while len(s)>0:\n",
        "  print(s[0])\n",
        "  s=s[1:]"
      ],
      "metadata": {
        "colab": {
          "base_uri": "https://localhost:8080/"
        },
        "id": "z4Qz5EvxlYJo",
        "outputId": "80f52c2f-a156-43ab-b156-99d1caf8da89"
      },
      "execution_count": null,
      "outputs": [
        {
          "output_type": "stream",
          "name": "stdout",
          "text": [
            "Введите слово: Bambum\n",
            "B\n",
            "a\n",
            "m\n",
            "b\n",
            "u\n",
            "m\n"
          ]
        }
      ]
    },
    {
      "cell_type": "code",
      "source": [
        "x=int(input())\n",
        "kol=0\n",
        "kol_ch=0\n",
        "pr=1\n",
        "s=0\n",
        "max=0\n",
        "while x>0:\n",
        "  last=x%10\n",
        "  kol=kol+1\n",
        "  s=s+last\n",
        "  pr=pr*last\n",
        "  if last>max:\n",
        "    max=last\n",
        "  if last%2==0:\n",
        "    kol_ch+=1\n",
        "  print(x%10)\n",
        "  x=x//10\n",
        "print(s)\n",
        "print(pr)\n",
        "print(kol_ch)\n",
        "print(kol)\n",
        "print(max)"
      ],
      "metadata": {
        "colab": {
          "base_uri": "https://localhost:8080/"
        },
        "id": "Fw7Hh-rfsMuq",
        "outputId": "3c01f39a-697f-4749-f7be-4950100aabe7"
      },
      "execution_count": null,
      "outputs": [
        {
          "output_type": "stream",
          "name": "stdout",
          "text": [
            "123\n",
            "3\n",
            "2\n",
            "1\n",
            "6\n",
            "6\n",
            "1\n",
            "3\n",
            "3\n"
          ]
        }
      ]
    },
    {
      "cell_type": "code",
      "source": [
        "a=int(input())\n",
        "i=1\n",
        "while i<=a//2:\n",
        "  if a%i==0:\n",
        "    print(i,end=' ')\n",
        "  i=i+1\n",
        "print(a)\n",
        "\n"
      ],
      "metadata": {
        "colab": {
          "base_uri": "https://localhost:8080/"
        },
        "id": "MI4ePSxm2KMz",
        "outputId": "2466bcca-45cb-48b7-9743-06e3124742ae"
      },
      "execution_count": null,
      "outputs": [
        {
          "output_type": "stream",
          "name": "stdout",
          "text": [
            "4557\n",
            "1 3 7 21 31 49 93 147 217 651 1519 4557\n"
          ]
        }
      ]
    },
    {
      "cell_type": "code",
      "source": [
        "n=int(input())\n",
        "i=1\n",
        "s=0\n",
        "c=[]\n",
        "while i*i<=n:\n",
        "  if n%i==0:\n",
        "      c.append(i)\n",
        "      s=s+i\n",
        "      if i!=n//i:\n",
        "        c.append(n//i)\n",
        "        s=s+n//i\n",
        "  i=i+1\n",
        "c.sort(reverse=True)\n",
        "print(c)\n",
        "print(s)\n"
      ],
      "metadata": {
        "colab": {
          "base_uri": "https://localhost:8080/"
        },
        "id": "l0_6OtC29Gm0",
        "outputId": "b224c0ed-a664-4328-8c0d-e8e15de63afd"
      },
      "execution_count": null,
      "outputs": [
        {
          "output_type": "stream",
          "name": "stdout",
          "text": [
            "34\n",
            "[34, 17, 2, 1]\n",
            "54\n"
          ]
        }
      ]
    },
    {
      "cell_type": "code",
      "source": [
        "#алгоритм Евклида\n",
        "a,b=map(int,input().split())\n",
        "while a!=b:\n",
        "  if a<b:\n",
        "    b=b-a\n",
        "  elif b<a:\n",
        "    a=a-b\n",
        "print(a)"
      ],
      "metadata": {
        "colab": {
          "base_uri": "https://localhost:8080/"
        },
        "id": "HZIPOtKmI5Mj",
        "outputId": "1f45db8d-a869-44f1-d18f-0853ecc255d3"
      },
      "execution_count": null,
      "outputs": [
        {
          "output_type": "stream",
          "name": "stdout",
          "text": [
            "12 6\n",
            "6\n"
          ]
        }
      ]
    },
    {
      "cell_type": "code",
      "source": [
        "#тоже алгоритм евклида\n",
        "a,b=map(int,input().split())\n",
        "c=a*b\n",
        "while b>0:\n",
        "  a,b=b,a%b\n",
        "print(c/a)"
      ],
      "metadata": {
        "colab": {
          "base_uri": "https://localhost:8080/"
        },
        "id": "DJdGXnbaL5EI",
        "outputId": "ac149e0d-1640-4f0d-d388-9859bab32709"
      },
      "execution_count": null,
      "outputs": [
        {
          "output_type": "stream",
          "name": "stdout",
          "text": [
            "75 120\n",
            "600.0\n"
          ]
        }
      ]
    },
    {
      "cell_type": "code",
      "source": [
        "a=1213\n",
        "b=3232\n",
        "print('i am %s and i have got %s rub'%(a,b))"
      ],
      "metadata": {
        "colab": {
          "base_uri": "https://localhost:8080/"
        },
        "id": "g8uf-P157yVy",
        "outputId": "2cde7f33-f401-4b48-bffd-9451ce52df27"
      },
      "execution_count": null,
      "outputs": [
        {
          "output_type": "stream",
          "name": "stdout",
          "text": [
            "i am 1213 and i have got 3232 rub\n"
          ]
        }
      ]
    },
    {
      "cell_type": "code",
      "source": [
        "i=1\n",
        "while True:\n",
        "   print('Iteraczia №',i)\n",
        "   if\n",
        "   if i==10:\n",
        "    break\n",
        "   i=i+1\n",
        "print('hello')"
      ],
      "metadata": {
        "colab": {
          "base_uri": "https://localhost:8080/"
        },
        "id": "T1vYww5LOqF8",
        "outputId": "846ae27d-fb54-4470-ad44-4bf1593f9307"
      },
      "execution_count": null,
      "outputs": [
        {
          "output_type": "stream",
          "name": "stdout",
          "text": [
            "Iteraczia № 1\n",
            "Iteraczia № 2\n",
            "Iteraczia № 3\n",
            "Iteraczia № 4\n",
            "Iteraczia № 5\n",
            "Iteraczia № 6\n",
            "Iteraczia № 7\n",
            "Iteraczia № 8\n",
            "Iteraczia № 9\n",
            "Iteraczia № 10\n",
            "hello\n"
          ]
        }
      ]
    },
    {
      "cell_type": "code",
      "source": [
        "r=iter(range(10))\n",
        "next(r)\n",
        "next(r)\n",
        "next(r)"
      ],
      "metadata": {
        "id": "xtvtRXNCishB"
      },
      "execution_count": null,
      "outputs": []
    },
    {
      "cell_type": "code",
      "source": [
        "from random import randint\n",
        "s=0\n",
        "n=int(input())\n",
        "for i in range(n+1):\n",
        "  a=randint(0,10)\n",
        "  s+=a\n",
        "  print(a,end=' ')\n",
        "print()\n",
        "print(s)\n"
      ],
      "metadata": {
        "id": "0_IkkK3sh6ur"
      },
      "execution_count": null,
      "outputs": []
    },
    {
      "cell_type": "code",
      "source": [
        "#проход по индексам\n",
        "a=[2,34,55,4,54,44,446]\n",
        "n=len(a)\n",
        "for i in range(n):\n",
        "  print(i,a[i])\n",
        "  a[i]+=5\n",
        "print(a)"
      ],
      "metadata": {
        "colab": {
          "base_uri": "https://localhost:8080/"
        },
        "id": "29GCw4LIjRrP",
        "outputId": "c9afaa9b-dc70-4944-d5d8-2d27a0e30b67"
      },
      "execution_count": 44,
      "outputs": [
        {
          "output_type": "stream",
          "name": "stdout",
          "text": [
            "0 2\n",
            "1 34\n",
            "2 55\n",
            "3 4\n",
            "4 54\n",
            "5 44\n",
            "6 446\n",
            "[7, 39, 60, 9, 59, 49, 451]\n"
          ]
        }
      ]
    },
    {
      "cell_type": "code",
      "source": [
        "sam='aeiou'\n",
        "b='addasyeineunie'\n",
        "n=len(b)\n",
        "for i in range(n-1):\n",
        "  if b[i] in sam and b[i+1] in sam:\n",
        "    print(b[i],b[i+1])"
      ],
      "metadata": {
        "colab": {
          "base_uri": "https://localhost:8080/"
        },
        "id": "3PvRKNqCrgf9",
        "outputId": "35948a83-3187-42ca-e700-d8bde77e6f9c"
      },
      "execution_count": 69,
      "outputs": [
        {
          "output_type": "stream",
          "name": "stdout",
          "text": [
            "e i\n",
            "e u\n",
            "i e\n"
          ]
        }
      ]
    },
    {
      "cell_type": "code",
      "source": [
        "w=int(input())\n",
        "a=0\n",
        "b=0\n",
        "for i in range(w):\n",
        "  if i%2!=0:\n",
        "    continue\n",
        "  elif i%2==0:\n",
        "    a=i\n",
        "    b=w-a\n",
        "if b%2==0:\n",
        " print('YES')\n",
        "else:\n",
        "  print('NO')\n",
        "\n",
        ""
      ],
      "metadata": {
        "colab": {
          "base_uri": "https://localhost:8080/"
        },
        "id": "8XC1JRvs3D9Z",
        "outputId": "d3701555-c7c3-4819-b380-c4d6fae772ea"
      },
      "execution_count": 94,
      "outputs": [
        {
          "output_type": "stream",
          "name": "stdout",
          "text": [
            "2\n",
            "YES\n"
          ]
        }
      ]
    },
    {
      "cell_type": "code",
      "source": [
        "a=[1,4,6,4,5,5,7,2,0,6,4,3,2,2]\n",
        "b=[0,0,0,0,0,0,0,0]\n",
        "for i in a:\n",
        "  b[i] += 1\n",
        "print(b)\n",
        "for i in range(8):\n",
        "  print(i,b[i])"
      ],
      "metadata": {
        "colab": {
          "base_uri": "https://localhost:8080/"
        },
        "id": "OqHSK-YmCMdH",
        "outputId": "6a3deb8d-b838-456e-f76b-d4166edec25c"
      },
      "execution_count": 102,
      "outputs": [
        {
          "output_type": "stream",
          "name": "stdout",
          "text": [
            "[1, 1, 3, 1, 3, 2, 2, 1]\n",
            "0 1\n",
            "1 1\n",
            "2 3\n",
            "3 1\n",
            "4 3\n",
            "5 2\n",
            "6 2\n",
            "7 1\n"
          ]
        }
      ]
    },
    {
      "cell_type": "code",
      "source": [
        "s='aslkSDKdsfksldks;cm cdfelfk lkfnelk-fe=f'\n",
        "letter = [0]*26\n",
        "for i in s.lower():\n",
        "  if i>='a' and i<='z':\n",
        "    n = ord(i)-97\n",
        "    letter[n] += 1\n",
        "for i in range(26):\n",
        "  if letter[i]>0:\n",
        "    print(str(chr(i+97))*letter[i],end='')\n",
        "\n"
      ],
      "metadata": {
        "colab": {
          "base_uri": "https://localhost:8080/"
        },
        "id": "23vg4AQUE6FF",
        "outputId": "e817a9a9-9bb8-4c29-eddf-b98bab861369"
      },
      "execution_count": 105,
      "outputs": [
        {
          "output_type": "stream",
          "name": "stdout",
          "text": [
            "accddddeeeffffffkkkkkkklllllmnsssss"
          ]
        }
      ]
    }
  ],
  "metadata": {
    "colab": {
      "provenance": [],
      "authorship_tag": "ABX9TyPI5fe/T9wbrxiNzien3kxI"
    },
    "kernelspec": {
      "display_name": "Python 3",
      "name": "python3"
    },
    "language_info": {
      "name": "python"
    }
  },
  "nbformat": 4,
  "nbformat_minor": 0
}